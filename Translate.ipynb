{
 "cells": [
  {
   "cell_type": "markdown",
   "metadata": {},
   "source": [
    "# DSM y Translation Matrix"
   ]
  },
  {
   "cell_type": "code",
   "execution_count": 48,
   "metadata": {
    "collapsed": false
   },
   "outputs": [
    {
     "name": "stdout",
     "output_type": "stream",
     "text": [
      "[[ 0.  3.  1.  1.  1.  1.  1.]\n",
      " [ 3.  0.  1.  1.  1.  1.  1.]\n",
      " [ 1.  1.  0.  1.  0.  0.  0.]\n",
      " [ 1.  1.  1.  0.  0.  0.  0.]\n",
      " [ 1.  1.  0.  0.  0.  0.  0.]\n",
      " [ 1.  1.  0.  0.  0.  0.  1.]\n",
      " [ 1.  1.  0.  0.  0.  1.  0.]]\n",
      "[[ 0.  3.  1.  1.  1.  1.  1.  1.]\n",
      " [ 3.  0.  1.  1.  1.  1.  1.  1.]\n",
      " [ 1.  1.  0.  1.  1.  0.  0.  0.]\n",
      " [ 1.  1.  1.  0.  1.  0.  0.  0.]\n",
      " [ 1.  1.  1.  1.  0.  0.  0.  0.]\n",
      " [ 1.  1.  0.  0.  0.  0.  0.  0.]\n",
      " [ 1.  1.  0.  0.  0.  0.  0.  1.]\n",
      " [ 1.  1.  0.  0.  0.  0.  1.  0.]]\n"
     ]
    }
   ],
   "source": [
    "%matplotlib inline\n",
    "from numpy.linalg import *\n",
    "from collections import defaultdict\n",
    "import numpy as np\n",
    "import matplotlib.pyplot as plt\n",
    "\n",
    "def vocab():\n",
    "    dicc = defaultdict()\n",
    "    dicc.default_factory = lambda: len(dicc)\n",
    "    return dicc\n",
    "\n",
    "def BoW(corpus,vocab):\n",
    "    for w in corpus:\n",
    "        yield[vocab[w_i] for w_i in w.split()]\n",
    "        \n",
    "def DSM (sentences):\n",
    "    words = vocab()\n",
    "    BagOfWords = list(BoW(sentences,words))\n",
    "\n",
    "    A = np.zeros((len(words),len(words)))\n",
    "    for w1 in words:\n",
    "        for w2 in words:\n",
    "            cooc = 0\n",
    "            for context in BagOfWords:\n",
    "                if words[w1] in context and words[w2] in context and w1 != w2:\n",
    "                    cooc += 1\n",
    "            A[words[w1],words[w2]] = cooc\n",
    "\n",
    "    return words, A\n",
    "  \n",
    "espanol = ['el gato come el pan', 'el gato duerme','el gato es bonito']\n",
    "japo = ['neko wa pan o tabemasu','neko wa nemasu','neko wa kawaii desu']\n",
    "es, ES = DSM(espanol)\n",
    "jp, JP = DSM(japo)\n",
    "\n",
    "print ES\n",
    "print JP"
   ]
  },
  {
   "cell_type": "code",
   "execution_count": 55,
   "metadata": {
    "collapsed": false
   },
   "outputs": [],
   "source": [
    "def low(A,k=2):\n",
    "    Q,S,D = svd(A)\n",
    "    Q = Q[:,:k]\n",
    "    S = np.diag(S)[:k,:k]\n",
    "    B = np.zeros((len(A),k))\n",
    "    for i,w in enumerate(A):\n",
    "        B[i] = np.dot(np.linalg.inv(S),np.dot(Q.T,w))\n",
    "    return B\n",
    "\n",
    "#JP = low(JP,len(ES))\n",
    "#print JP"
   ]
  },
  {
   "cell_type": "code",
   "execution_count": 77,
   "metadata": {
    "collapsed": false
   },
   "outputs": [
    {
     "data": {
      "image/png": "[encoded data removed]",
      "text/plain": [
       "<matplotlib.figure.Figure at 0x7fad38a7bb90>"
      ]
     },
     "metadata": {},
     "output_type": "display_data"
    }
   ],
   "source": [
    "def plot_words(Z,ids,names='bottom',color='blue'):\n",
    "    r=0\n",
    "    plt.scatter(Z[:,0],Z[:,1], marker='o', c=color)\n",
    "    for label,x,y in zip(ids, Z[:,0], Z[:,1]):\n",
    "        plt.annotate(label.decode('utf8'), xy=(x,y), xytext=(-1,1), textcoords='offset points', ha='center', va=names)\n",
    "        r+=1\n",
    "\n",
    "plot_words(low(ES,2),es.keys(),'top')\n",
    "plot_words(low(JP,2),jp.keys(),color='red')\n",
    "plt.show()"
   ]
  },
  {
   "cell_type": "code",
   "execution_count": 89,
   "metadata": {
    "collapsed": false
   },
   "outputs": [
    {
     "name": "stdout",
     "output_type": "stream",
     "text": [
      "(8, 7) (7, 8)\n"
     ]
    }
   ],
   "source": [
    "seed = [('el','wa'),('come','tabemasu'),('duerme','nemasu'),('bonito','kawaii')]\n",
    "\n",
    "V1 = np.zeros((len(seed),len(ES)))\n",
    "V2 = np.zeros((len(seed),len(JP)))\n",
    "for i,(w1,w2) in enumerate(seed):\n",
    "    V1[i] = ES[es[w1]]\n",
    "    V2[i] = JP[jp[w2]]\n",
    "    \n",
    "W = lstsq(V1,V2,-1)[0]\n",
    "\n",
    "JP2 = np.zeros((len(JP),len(ES)))\n",
    "for i,w in enumerate(JP):\n",
    "    JP2[i] = np.dot(W, w)\n",
    "    \n",
    "ES2 = np.zeros((len(ES),len(JP)))\n",
    "for i,w in enumerate(ES):\n",
    "    ES2[i] = np.dot(W.T, w)\n",
    "    \n",
    "print JP2.shape, ES2.shape"
   ]
  },
  {
   "cell_type": "code",
   "execution_count": 114,
   "metadata": {
    "collapsed": false
   },
   "outputs": [
    {
     "name": "stdout",
     "output_type": "stream",
     "text": [
      "el 0.449215438978\n",
      "bonito 0.659501152723\n",
      "duerme 0.605790490855\n",
      "gato 0.692413371452\n",
      "pan 0.505459370343\n",
      "come 0.759408499256\n",
      "es 0.505459370343\n"
     ]
    }
   ],
   "source": [
    "def cos(x,y):\n",
    "    return np.dot(x,y)/ (norm(x)*norm(y))\n",
    "\n",
    "target = 'neko'\n",
    "for word in es:\n",
    "    try:\n",
    "        esp2 = cos(JP[jp[target]],ES2[es[word]])\n",
    "        japo2 = cos(JP2[jp[target]],ES[es[word]])\n",
    "        print word, 2*(esp2*japo2)/(esp2+japo2)\n",
    "    except:\n",
    "        pass"
   ]
  },
  {
   "cell_type": "code",
   "execution_count": null,
   "metadata": {
    "collapsed": true
   },
   "outputs": [],
   "source": []
  }
 ],
 "metadata": {
  "kernelspec": {
   "display_name": "Python 2",
   "language": "python",
   "name": "python2"
  },
  "language_info": {
   "codemirror_mode": {
    "name": "ipython",
    "version": 2
   },
   "file_extension": ".py",
   "mimetype": "text/x-python",
   "name": "python",
   "nbconvert_exporter": "python",
   "pygments_lexer": "ipython2",
   "version": "2.7.11"
  }
 },
 "nbformat": 4,
 "nbformat_minor": 0
}
