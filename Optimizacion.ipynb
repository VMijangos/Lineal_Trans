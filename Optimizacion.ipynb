{
 "cells": [
  {
   "cell_type": "markdown",
   "metadata": {},
   "source": [
    "# Encontrar la transformación lineal entre matrices"
   ]
  },
  {
   "cell_type": "code",
   "execution_count": 1,
   "metadata": {
    "collapsed": true
   },
   "outputs": [],
   "source": [
    "from scipy import optimize\n",
    "import numpy as np"
   ]
  },
  {
   "cell_type": "markdown",
   "metadata": {},
   "source": [
    "Se define la norma Frobenios de una matriz como la traza del producto entre A transpuesta y A"
   ]
  },
  {
   "cell_type": "code",
   "execution_count": 2,
   "metadata": {
    "collapsed": true
   },
   "outputs": [],
   "source": [
    "F = lambda A: np.trace(np.dot(A.T,A))"
   ]
  },
  {
   "cell_type": "markdown",
   "metadata": {},
   "source": [
    "Se toma la matriz X y Y. Se busca una transformación W de X a Y.\n",
    "\n",
    "Para esto, obtenemos las dimensiones mXn de las matrices. Se crea una lista de tamaño n que se utilizará para definir la función a optimizar."
   ]
  },
  {
   "cell_type": "code",
   "execution_count": 57,
   "metadata": {
    "collapsed": true
   },
   "outputs": [],
   "source": [
    "X = np.array([[1,2,3],[3,1,2],[4,5,1]])\n",
    "Y = np.array([[2,-1,3],[1,-3,2],[5,-4,1]])\n",
    "m,n = X.shape\n",
    "idx = np.arange(n)"
   ]
  },
  {
   "cell_type": "raw",
   "metadata": {},
   "source": [
    "Se define la función a optmizar como ||XW-Y||^2+l||W||^2, donde la norma es Frobenius."
   ]
  },
  {
   "cell_type": "code",
   "execution_count": 58,
   "metadata": {
    "collapsed": true
   },
   "outputs": [],
   "source": [
    "def Fx (w, l=0.5):\n",
    "    w = w.reshape(n, n) #Reshepea el vector a una matriz de nXn\n",
    "    w2 = np.abs(w)\n",
    "    w2[idx, idx] = 0\n",
    "    return F(np.dot(X, w2) - Y) + l*F(w2)"
   ]
  },
  {
   "cell_type": "markdown",
   "metadata": {},
   "source": [
    "Se aplica un algoritmo de optimización para encontrar la W que minimize la función."
   ]
  },
  {
   "cell_type": "code",
   "execution_count": 59,
   "metadata": {
    "collapsed": false
   },
   "outputs": [
    {
     "name": "stdout",
     "output_type": "stream",
     "text": [
      "Optimization terminated successfully.\n",
      "         Current function value: 34.114004\n",
      "         Iterations: 816\n",
      "         Function evaluations: 1220\n"
     ]
    }
   ],
   "source": [
    "w = optimize.fmin(Fx, np.ones(n*n))"
   ]
  },
  {
   "cell_type": "markdown",
   "metadata": {},
   "source": [
    "Y se transforma de nuevo a una matriz de tamaño nXn"
   ]
  },
  {
   "cell_type": "code",
   "execution_count": 78,
   "metadata": {
    "collapsed": false
   },
   "outputs": [
    {
     "name": "stdout",
     "output_type": "stream",
     "text": [
      "[[  0.00000000e+00   1.62465373e-08   4.70515002e-01]\n",
      " [  9.40236450e-01   0.00000000e+00   6.05749359e-02]\n",
      " [  8.12813472e-02   1.37288456e-08   0.00000000e+00]]\n"
     ]
    }
   ],
   "source": [
    "W = w.reshape(n, n)\n",
    "W[idx, idx] = 0\n",
    "W = np.abs(W)\n",
    "print W"
   ]
  },
  {
   "cell_type": "markdown",
   "metadata": {},
   "source": [
    "Podemos comprobar la transformación."
   ]
  },
  {
   "cell_type": "code",
   "execution_count": 80,
   "metadata": {
    "collapsed": false
   },
   "outputs": [
    {
     "name": "stdout",
     "output_type": "stream",
     "text": [
      "[[  2.12431694e+00   5.74330742e-08   5.91664874e-01]\n",
      " [  1.10279914e+00   7.61973032e-08   1.47211994e+00]\n",
      " [  4.78246360e+00   7.87149949e-08   2.18493469e+00]]\n",
      "32.0\n"
     ]
    }
   ],
   "source": [
    "print np.dot(X,W)\n",
    "print  F(np.round(np.dot(X,W)) - Y)"
   ]
  }
 ],
 "metadata": {
  "kernelspec": {
   "display_name": "Python 2",
   "language": "python",
   "name": "python2"
  },
  "language_info": {
   "codemirror_mode": {
    "name": "ipython",
    "version": 2
   },
   "file_extension": ".py",
   "mimetype": "text/x-python",
   "name": "python",
   "nbconvert_exporter": "python",
   "pygments_lexer": "ipython2",
   "version": "2.7.12"
  }
 },
 "nbformat": 4,
 "nbformat_minor": 0
}
